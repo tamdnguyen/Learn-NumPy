{
 "cells": [
  {
   "cell_type": "markdown",
   "id": "bdc8e8c1",
   "metadata": {},
   "source": [
    "### EXERCISE 11 - Generation of given count of equally spaced numbers within a specified range\n",
    "\n",
    "Output a sequence of equally gapped 5 numbers in the range 0 to 100 (both inclusive)"
   ]
  },
  {
   "cell_type": "code",
   "execution_count": 1,
   "id": "4287e1db",
   "metadata": {},
   "outputs": [],
   "source": [
    "import numpy as np"
   ]
  },
  {
   "cell_type": "code",
   "execution_count": 2,
   "id": "a2776b41",
   "metadata": {},
   "outputs": [],
   "source": [
    "a = np.linspace(0,100,5)"
   ]
  },
  {
   "cell_type": "code",
   "execution_count": 3,
   "id": "d20cfd7c",
   "metadata": {},
   "outputs": [
    {
     "data": {
      "text/plain": [
       "array([  0.,  25.,  50.,  75., 100.])"
      ]
     },
     "execution_count": 3,
     "metadata": {},
     "output_type": "execute_result"
    }
   ],
   "source": [
    "a"
   ]
  }
 ],
 "metadata": {
  "kernelspec": {
   "display_name": "Python 3 (ipykernel)",
   "language": "python",
   "name": "python3"
  },
  "language_info": {
   "codemirror_mode": {
    "name": "ipython",
    "version": 3
   },
   "file_extension": ".py",
   "mimetype": "text/x-python",
   "name": "python",
   "nbconvert_exporter": "python",
   "pygments_lexer": "ipython3",
   "version": "3.9.7"
  }
 },
 "nbformat": 4,
 "nbformat_minor": 5
}
