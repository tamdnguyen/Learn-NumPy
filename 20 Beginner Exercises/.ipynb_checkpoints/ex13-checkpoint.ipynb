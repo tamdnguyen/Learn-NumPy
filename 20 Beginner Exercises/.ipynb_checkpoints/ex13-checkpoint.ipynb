{
 "cells": [
  {
   "cell_type": "markdown",
   "id": "a7666e46",
   "metadata": {},
   "source": [
    "### EXERCISE 13 - Array Generation by repeatition of a small array across each dimension\n",
    "\n",
    "Output an array by repeating a smaller array of 2 dimensions, 10 times"
   ]
  },
  {
   "cell_type": "code",
   "execution_count": 1,
   "id": "c603b1a2",
   "metadata": {},
   "outputs": [],
   "source": [
    "import numpy as np"
   ]
  },
  {
   "cell_type": "code",
   "execution_count": 9,
   "id": "b0fadbab",
   "metadata": {},
   "outputs": [],
   "source": [
    "a = np.array([[1,2,3],[9,8,7]])"
   ]
  },
  {
   "cell_type": "code",
   "execution_count": 10,
   "id": "1f480d48",
   "metadata": {},
   "outputs": [
    {
     "name": "stdout",
     "output_type": "stream",
     "text": [
      "[[1 2 3]\n",
      " [9 8 7]]\n"
     ]
    }
   ],
   "source": [
    "print(a)"
   ]
  },
  {
   "cell_type": "code",
   "execution_count": 12,
   "id": "8d1eeb32",
   "metadata": {},
   "outputs": [
    {
     "data": {
      "text/plain": [
       "(2, 3)"
      ]
     },
     "execution_count": 12,
     "metadata": {},
     "output_type": "execute_result"
    }
   ],
   "source": [
    "a.shape"
   ]
  },
  {
   "cell_type": "code",
   "execution_count": 17,
   "id": "63200203",
   "metadata": {},
   "outputs": [],
   "source": [
    "b = np.hstack([a]*10)"
   ]
  },
  {
   "cell_type": "code",
   "execution_count": 19,
   "id": "dd4e3ad8",
   "metadata": {},
   "outputs": [
    {
     "name": "stdout",
     "output_type": "stream",
     "text": [
      "[[1 2 3 1 2 3 1 2 3 1 2 3 1 2 3 1 2 3 1 2 3 1 2 3 1 2 3 1 2 3]\n",
      " [9 8 7 9 8 7 9 8 7 9 8 7 9 8 7 9 8 7 9 8 7 9 8 7 9 8 7 9 8 7]]\n"
     ]
    }
   ],
   "source": [
    "print(b)"
   ]
  },
  {
   "cell_type": "code",
   "execution_count": 20,
   "id": "d9893aaf",
   "metadata": {},
   "outputs": [],
   "source": [
    "# Alternative solution\n",
    "\n",
    "c = np.tile(a, 10)"
   ]
  },
  {
   "cell_type": "code",
   "execution_count": 21,
   "id": "f021e631",
   "metadata": {},
   "outputs": [
    {
     "name": "stdout",
     "output_type": "stream",
     "text": [
      "[[1 2 3 1 2 3 1 2 3 1 2 3 1 2 3 1 2 3 1 2 3 1 2 3 1 2 3 1 2 3]\n",
      " [9 8 7 9 8 7 9 8 7 9 8 7 9 8 7 9 8 7 9 8 7 9 8 7 9 8 7 9 8 7]]\n"
     ]
    }
   ],
   "source": [
    "print(c)"
   ]
  },
  {
   "cell_type": "code",
   "execution_count": null,
   "id": "7542a752",
   "metadata": {},
   "outputs": [],
   "source": []
  }
 ],
 "metadata": {
  "kernelspec": {
   "display_name": "Python 3 (ipykernel)",
   "language": "python",
   "name": "python3"
  },
  "language_info": {
   "codemirror_mode": {
    "name": "ipython",
    "version": 3
   },
   "file_extension": ".py",
   "mimetype": "text/x-python",
   "name": "python",
   "nbconvert_exporter": "python",
   "pygments_lexer": "ipython3",
   "version": "3.9.7"
  }
 },
 "nbformat": 4,
 "nbformat_minor": 5
}
