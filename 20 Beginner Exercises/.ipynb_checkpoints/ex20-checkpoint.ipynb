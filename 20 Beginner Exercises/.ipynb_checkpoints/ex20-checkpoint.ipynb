{
 "cells": [
  {
   "cell_type": "markdown",
   "id": "e70073db",
   "metadata": {},
   "source": [
    "### EXERCISE 20 - Generating the array element indexes such that the array elements appear in ascending order\n",
    "\n",
    "Output the array element indexes such that the array elements appear in the ascending order"
   ]
  },
  {
   "cell_type": "code",
   "execution_count": 1,
   "id": "7c3cfc3e",
   "metadata": {},
   "outputs": [],
   "source": [
    "import numpy as np"
   ]
  },
  {
   "cell_type": "code",
   "execution_count": 2,
   "id": "c40bab7c",
   "metadata": {},
   "outputs": [],
   "source": [
    "'''\n",
    "Input: [10,1,5,2]\n",
    "Output: [1 3 2 0]\n",
    "'''\n",
    "\n",
    "a = np.array([10,1,5,2])\n",
    "asd = np.argsort(a, axis=0)"
   ]
  },
  {
   "cell_type": "code",
   "execution_count": 3,
   "id": "4a77c6b6",
   "metadata": {},
   "outputs": [
    {
     "name": "stdout",
     "output_type": "stream",
     "text": [
      "[1 3 2 0]\n"
     ]
    }
   ],
   "source": [
    "print(asd)"
   ]
  },
  {
   "cell_type": "code",
   "execution_count": 4,
   "id": "c2a35e4c",
   "metadata": {},
   "outputs": [
    {
     "name": "stdout",
     "output_type": "stream",
     "text": [
      "[0 2 3 1]\n"
     ]
    }
   ],
   "source": [
    "# descending order: reverse the asd array using array slicing [::-1]\n",
    "\n",
    "des = asd[::-1]\n",
    "print(des)"
   ]
  },
  {
   "cell_type": "code",
   "execution_count": 5,
   "id": "98be1e8c",
   "metadata": {},
   "outputs": [
    {
     "name": "stdout",
     "output_type": "stream",
     "text": [
      "[[10  1  5  2]\n",
      " [ 3  4  0  2]]\n"
     ]
    }
   ],
   "source": [
    "'''\n",
    "Input:\n",
    "[[10  1  5  2]\n",
    " [ 3  4  0  2]]\n",
    "'''\n",
    "b = np.array([[10,1,5,2], [3,4,0,2]])\n",
    "print(b)"
   ]
  },
  {
   "cell_type": "code",
   "execution_count": 6,
   "id": "e227a1f9",
   "metadata": {},
   "outputs": [
    {
     "name": "stdout",
     "output_type": "stream",
     "text": [
      "[[1 0 1 0]\n",
      " [0 1 0 1]]\n"
     ]
    }
   ],
   "source": [
    "# sort the elements in ascending order in vertical direction\n",
    "\n",
    "ver = np.argsort(b, axis=0)\n",
    "print(ver)"
   ]
  },
  {
   "cell_type": "code",
   "execution_count": 7,
   "id": "7462765c",
   "metadata": {},
   "outputs": [
    {
     "name": "stdout",
     "output_type": "stream",
     "text": [
      "[[1 3 2 0]\n",
      " [2 3 0 1]]\n"
     ]
    }
   ],
   "source": [
    "hor = np.argsort(b, axis=1)\n",
    "print(hor)"
   ]
  }
 ],
 "metadata": {
  "kernelspec": {
   "display_name": "Python 3 (ipykernel)",
   "language": "python",
   "name": "python3"
  },
  "language_info": {
   "codemirror_mode": {
    "name": "ipython",
    "version": 3
   },
   "file_extension": ".py",
   "mimetype": "text/x-python",
   "name": "python",
   "nbconvert_exporter": "python",
   "pygments_lexer": "ipython3",
   "version": "3.9.7"
  }
 },
 "nbformat": 4,
 "nbformat_minor": 5
}
