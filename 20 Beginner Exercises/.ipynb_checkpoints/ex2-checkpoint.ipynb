{
 "cells": [
  {
   "cell_type": "markdown",
   "id": "68e847bd",
   "metadata": {},
   "source": [
    "### EXERCISE 2 - Multiplying a matrix (numpy array) by a scalar"
   ]
  },
  {
   "cell_type": "code",
   "execution_count": 1,
   "id": "fecc11f3",
   "metadata": {},
   "outputs": [
    {
     "name": "stdout",
     "output_type": "stream",
     "text": [
      "[[ 9  6 15]\n",
      " [21 18 18]]\n"
     ]
    }
   ],
   "source": [
    "import numpy as np\n",
    "\n",
    "a = np.array([[3,2,5], [7,6,6]])\n",
    "\n",
    "scalar = 3\n",
    "\n",
    "print(a*scalar)"
   ]
  },
  {
   "cell_type": "code",
   "execution_count": null,
   "id": "748b03cf",
   "metadata": {},
   "outputs": [],
   "source": []
  }
 ],
 "metadata": {
  "kernelspec": {
   "display_name": "Python 3 (ipykernel)",
   "language": "python",
   "name": "python3"
  },
  "language_info": {
   "codemirror_mode": {
    "name": "ipython",
    "version": 3
   },
   "file_extension": ".py",
   "mimetype": "text/x-python",
   "name": "python",
   "nbconvert_exporter": "python",
   "pygments_lexer": "ipython3",
   "version": "3.9.7"
  }
 },
 "nbformat": 4,
 "nbformat_minor": 5
}
