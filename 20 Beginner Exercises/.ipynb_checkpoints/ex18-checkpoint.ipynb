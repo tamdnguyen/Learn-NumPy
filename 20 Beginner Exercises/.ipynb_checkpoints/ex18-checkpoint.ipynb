{
 "cells": [
  {
   "cell_type": "markdown",
   "id": "a40d3cae",
   "metadata": {},
   "source": [
    "### EXERCISE 18 - Sine of an Angle (in radians)\n",
    "\n",
    "Calculate the sine of an array of angles (in radians) using NumPy"
   ]
  },
  {
   "cell_type": "code",
   "execution_count": 1,
   "id": "79e9142c",
   "metadata": {},
   "outputs": [],
   "source": [
    "import numpy as np"
   ]
  },
  {
   "cell_type": "code",
   "execution_count": 23,
   "id": "4ed06f4b",
   "metadata": {},
   "outputs": [],
   "source": [
    "# array in radian\n",
    "rad = np.array([0, 1, 1/2, 1/3, 1/4, 1/6, 1/8, 3/2, 2, 2/7, 3/4])"
   ]
  },
  {
   "cell_type": "code",
   "execution_count": 24,
   "id": "cacb3627",
   "metadata": {},
   "outputs": [],
   "source": [
    "b = np.sin(rad)"
   ]
  },
  {
   "cell_type": "code",
   "execution_count": 25,
   "id": "7385f9d7",
   "metadata": {},
   "outputs": [
    {
     "name": "stdout",
     "output_type": "stream",
     "text": [
      "[0.         0.84147098 0.47942554 0.3271947  0.24740396 0.16589613\n",
      " 0.12467473 0.99749499 0.90929743 0.28184285 0.68163876]\n"
     ]
    }
   ],
   "source": [
    "print(b)"
   ]
  }
 ],
 "metadata": {
  "kernelspec": {
   "display_name": "Python 3 (ipykernel)",
   "language": "python",
   "name": "python3"
  },
  "language_info": {
   "codemirror_mode": {
    "name": "ipython",
    "version": 3
   },
   "file_extension": ".py",
   "mimetype": "text/x-python",
   "name": "python",
   "nbconvert_exporter": "python",
   "pygments_lexer": "ipython3",
   "version": "3.9.7"
  }
 },
 "nbformat": 4,
 "nbformat_minor": 5
}
