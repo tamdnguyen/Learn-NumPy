{
 "cells": [
  {
   "cell_type": "markdown",
   "id": "70164074",
   "metadata": {},
   "source": [
    "### EXERCISE 12 - Matrix Generation with one particular value\n",
    "\n",
    "Output a matrix (numpy array) of dimension 2-by-3 with each and every value equal to 5"
   ]
  },
  {
   "cell_type": "code",
   "execution_count": 1,
   "id": "c7f03f27",
   "metadata": {},
   "outputs": [],
   "source": [
    "import numpy as np"
   ]
  },
  {
   "cell_type": "code",
   "execution_count": 2,
   "id": "5c2bbdc0",
   "metadata": {},
   "outputs": [],
   "source": [
    "a = np.full((2,3), 5)"
   ]
  },
  {
   "cell_type": "code",
   "execution_count": 3,
   "id": "9143d218",
   "metadata": {},
   "outputs": [
    {
     "data": {
      "text/plain": [
       "array([[5, 5, 5],\n",
       "       [5, 5, 5]])"
      ]
     },
     "execution_count": 3,
     "metadata": {},
     "output_type": "execute_result"
    }
   ],
   "source": [
    "a"
   ]
  },
  {
   "cell_type": "code",
   "execution_count": 5,
   "id": "0dcf468e",
   "metadata": {},
   "outputs": [],
   "source": [
    "# Alternate solution using scalar-matrix multiplication\n",
    "\n",
    "a = np.ones((2,3), dtype=int)"
   ]
  },
  {
   "cell_type": "code",
   "execution_count": 6,
   "id": "c429579a",
   "metadata": {},
   "outputs": [],
   "source": [
    "b = 5*a"
   ]
  },
  {
   "cell_type": "code",
   "execution_count": 7,
   "id": "bef491f0",
   "metadata": {},
   "outputs": [
    {
     "data": {
      "text/plain": [
       "array([[5, 5, 5],\n",
       "       [5, 5, 5]])"
      ]
     },
     "execution_count": 7,
     "metadata": {},
     "output_type": "execute_result"
    }
   ],
   "source": [
    "b"
   ]
  },
  {
   "cell_type": "code",
   "execution_count": null,
   "id": "b796342a",
   "metadata": {},
   "outputs": [],
   "source": []
  }
 ],
 "metadata": {
  "kernelspec": {
   "display_name": "Python 3 (ipykernel)",
   "language": "python",
   "name": "python3"
  },
  "language_info": {
   "codemirror_mode": {
    "name": "ipython",
    "version": 3
   },
   "file_extension": ".py",
   "mimetype": "text/x-python",
   "name": "python",
   "nbconvert_exporter": "python",
   "pygments_lexer": "ipython3",
   "version": "3.9.7"
  }
 },
 "nbformat": 4,
 "nbformat_minor": 5
}
