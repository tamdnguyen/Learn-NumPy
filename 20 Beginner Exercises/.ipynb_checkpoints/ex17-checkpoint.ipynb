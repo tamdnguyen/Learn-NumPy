{
 "cells": [
  {
   "cell_type": "markdown",
   "id": "4c9df334",
   "metadata": {},
   "source": [
    "### EXERCISE 17 - Matrix Transpose\n",
    "\n",
    "Output the transpose of a matrix (as numpy array)"
   ]
  },
  {
   "cell_type": "code",
   "execution_count": 1,
   "id": "523ae356",
   "metadata": {},
   "outputs": [],
   "source": [
    "import numpy as np"
   ]
  },
  {
   "cell_type": "code",
   "execution_count": 2,
   "id": "028c6620",
   "metadata": {},
   "outputs": [
    {
     "name": "stdout",
     "output_type": "stream",
     "text": [
      "[[1 2 3]\n",
      " [9 8 7]]\n"
     ]
    }
   ],
   "source": [
    "# 2x3 matrix\n",
    "\n",
    "a = np.array([[1,2,3], [9,8,7]])\n",
    "print(a)"
   ]
  },
  {
   "cell_type": "code",
   "execution_count": 3,
   "id": "7fae8c05",
   "metadata": {},
   "outputs": [
    {
     "name": "stdout",
     "output_type": "stream",
     "text": [
      "[[1 9]\n",
      " [2 8]\n",
      " [3 7]]\n"
     ]
    }
   ],
   "source": [
    "# b = a transposed: 2x3 -> 3x2\n",
    "\n",
    "b = np.transpose(a)\n",
    "print(b)"
   ]
  }
 ],
 "metadata": {
  "kernelspec": {
   "display_name": "Python 3 (ipykernel)",
   "language": "python",
   "name": "python3"
  },
  "language_info": {
   "codemirror_mode": {
    "name": "ipython",
    "version": 3
   },
   "file_extension": ".py",
   "mimetype": "text/x-python",
   "name": "python",
   "nbconvert_exporter": "python",
   "pygments_lexer": "ipython3",
   "version": "3.9.7"
  }
 },
 "nbformat": 4,
 "nbformat_minor": 5
}
