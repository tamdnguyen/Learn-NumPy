{
 "cells": [
  {
   "cell_type": "markdown",
   "id": "4eb82d4c",
   "metadata": {},
   "source": [
    "### EXERCISE 16 - Matrix Multiplication\n",
    "\n",
    "Given 2 numpy arrays as matrices, output the result of multiplying the 2 matrices (as a numpy array)"
   ]
  },
  {
   "cell_type": "code",
   "execution_count": 1,
   "id": "e92451c3",
   "metadata": {},
   "outputs": [],
   "source": [
    "import numpy as np"
   ]
  },
  {
   "cell_type": "code",
   "execution_count": 2,
   "id": "7f66ae3d",
   "metadata": {},
   "outputs": [],
   "source": [
    "a = np.array([[2,3,4], [3,4,2]])"
   ]
  },
  {
   "cell_type": "code",
   "execution_count": 3,
   "id": "00ab2d82",
   "metadata": {},
   "outputs": [],
   "source": [
    "b = np.array([[3,2], [4,3], [1,3]])"
   ]
  },
  {
   "cell_type": "code",
   "execution_count": 6,
   "id": "4e78b855",
   "metadata": {},
   "outputs": [
    {
     "name": "stdout",
     "output_type": "stream",
     "text": [
      "[[2 3 4]\n",
      " [3 4 2]]\n"
     ]
    }
   ],
   "source": [
    "print(a)"
   ]
  },
  {
   "cell_type": "code",
   "execution_count": 7,
   "id": "d1961ca7",
   "metadata": {},
   "outputs": [
    {
     "name": "stdout",
     "output_type": "stream",
     "text": [
      "[[3 2]\n",
      " [4 3]\n",
      " [1 3]]\n"
     ]
    }
   ],
   "source": [
    "print(b)"
   ]
  },
  {
   "cell_type": "code",
   "execution_count": 9,
   "id": "8ae654d6",
   "metadata": {},
   "outputs": [],
   "source": [
    "mulp = a@b"
   ]
  },
  {
   "cell_type": "code",
   "execution_count": 10,
   "id": "474d87be",
   "metadata": {},
   "outputs": [
    {
     "name": "stdout",
     "output_type": "stream",
     "text": [
      "[[22 25]\n",
      " [27 24]]\n"
     ]
    }
   ],
   "source": [
    "print(mulp)"
   ]
  },
  {
   "cell_type": "code",
   "execution_count": null,
   "id": "469ddec6",
   "metadata": {},
   "outputs": [],
   "source": []
  }
 ],
 "metadata": {
  "kernelspec": {
   "display_name": "Python 3 (ipykernel)",
   "language": "python",
   "name": "python3"
  },
  "language_info": {
   "codemirror_mode": {
    "name": "ipython",
    "version": 3
   },
   "file_extension": ".py",
   "mimetype": "text/x-python",
   "name": "python",
   "nbconvert_exporter": "python",
   "pygments_lexer": "ipython3",
   "version": "3.9.7"
  }
 },
 "nbformat": 4,
 "nbformat_minor": 5
}
