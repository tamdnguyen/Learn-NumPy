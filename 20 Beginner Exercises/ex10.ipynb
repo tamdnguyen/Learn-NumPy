{
 "cells": [
  {
   "cell_type": "markdown",
   "id": "6e0b965f",
   "metadata": {},
   "source": [
    "### EXERCISE 10 - Getting the positions (indexes) where elements of 2 numpy arrays match\n",
    "\n",
    "From 2 numpy arrays, extract the indexes in which the elements in the 2 arrays match"
   ]
  },
  {
   "cell_type": "code",
   "execution_count": 1,
   "id": "78bcf3b7",
   "metadata": {},
   "outputs": [
    {
     "name": "stdout",
     "output_type": "stream",
     "text": [
      "Elements match in these position:\n",
      "[1 2 4]\n"
     ]
    }
   ],
   "source": [
    "import numpy as np\n",
    "\n",
    "# 1-D array\n",
    "a = np.array([1,2,3,4,5])\n",
    "b = np.array([4,2,3,1,5])\n",
    "c = np.where((a==b))\n",
    "\n",
    "print(\"Elements match in these position:\")\n",
    "print(c[0])"
   ]
  },
  {
   "cell_type": "code",
   "execution_count": 2,
   "id": "95618574",
   "metadata": {},
   "outputs": [
    {
     "name": "stdout",
     "output_type": "stream",
     "text": [
      "Elements match: 3\n",
      "[[1 2 3]\n",
      " [3 2 1]]\n",
      "Row indice of the match: [0 1]\n",
      "Column indice of the match: [2 0]\n",
      "Position of the match: ((0, 2), (1, 0))\n"
     ]
    }
   ],
   "source": [
    "# get the index one a single elemnent from 1 2D array\n",
    "\n",
    "x = np.array([[1,2,3], [3,2,1]])\n",
    "y = np.array([[2,0,1], [3,4,5]])\n",
    "z = np.where((x==3))\n",
    "\n",
    "print(\"Elements match:\", 3)\n",
    "print(x)\n",
    "print(\"Row indice of the match:\", z[0])\n",
    "print(\"Column indice of the match:\", z[1])\n",
    "print(\"Position of the match:\", tuple(zip(z[0], z[1])))"
   ]
  }
 ],
 "metadata": {
  "kernelspec": {
   "display_name": "Python 3 (ipykernel)",
   "language": "python",
   "name": "python3"
  },
  "language_info": {
   "codemirror_mode": {
    "name": "ipython",
    "version": 3
   },
   "file_extension": ".py",
   "mimetype": "text/x-python",
   "name": "python",
   "nbconvert_exporter": "python",
   "pygments_lexer": "ipython3",
   "version": "3.9.7"
  }
 },
 "nbformat": 4,
 "nbformat_minor": 5
}
