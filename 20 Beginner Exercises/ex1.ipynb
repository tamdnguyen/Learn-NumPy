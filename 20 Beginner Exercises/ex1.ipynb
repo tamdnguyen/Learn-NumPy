{
 "cells": [
  {
   "cell_type": "markdown",
   "id": "40d67fea",
   "metadata": {},
   "source": [
    "### EXERCISE 1 - Element-wise addition of 2 numpy arrays\n",
    "\n",
    "Given are 2 similar dimensional numpy arrays, how to get a numpy array output in which every element is an element-wise sum of the 2 numpy arrays?"
   ]
  },
  {
   "cell_type": "code",
   "execution_count": 1,
   "id": "fbdeb4d3",
   "metadata": {},
   "outputs": [
    {
     "name": "stdout",
     "output_type": "stream",
     "text": [
      "a:\n",
      "[[1 2 3]\n",
      " [2 3 4]]\n",
      "b:\n",
      "[[3 2 5]\n",
      " [7 6 6]]\n",
      "Element-wise addition (c[i][j] = a[i][j] + b[i][j]) of a and b: \n",
      "[[ 4  4  8]\n",
      " [ 9  9 10]]\n"
     ]
    }
   ],
   "source": [
    "import numpy as np\n",
    "\n",
    "a = np.array([[1,2,3], [2,3,4]])\n",
    "b = np.array([[3,2,5], [7,6,6]])\n",
    "\n",
    "c = a + b\n",
    "\n",
    "print(\"a:\")\n",
    "print(a)\n",
    "print(\"b:\")\n",
    "print(b)\n",
    "print(\"Element-wise addition (c[i][j] = a[i][j] + b[i][j]) of a and b: \")\n",
    "print(c)"
   ]
  },
  {
   "cell_type": "code",
   "execution_count": null,
   "id": "6ffd8c8b",
   "metadata": {},
   "outputs": [],
   "source": []
  }
 ],
 "metadata": {
  "kernelspec": {
   "display_name": "Python 3 (ipykernel)",
   "language": "python",
   "name": "python3"
  },
  "language_info": {
   "codemirror_mode": {
    "name": "ipython",
    "version": 3
   },
   "file_extension": ".py",
   "mimetype": "text/x-python",
   "name": "python",
   "nbconvert_exporter": "python",
   "pygments_lexer": "ipython3",
   "version": "3.9.7"
  }
 },
 "nbformat": 4,
 "nbformat_minor": 5
}
