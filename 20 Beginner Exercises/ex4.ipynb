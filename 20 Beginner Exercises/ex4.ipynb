{
 "cells": [
  {
   "cell_type": "markdown",
   "id": "bdb0f5f7",
   "metadata": {},
   "source": [
    "### EXERCISE 4 - Array re-dimensioning\n",
    "\n",
    "Convert a 1-D array to a 3-D array"
   ]
  },
  {
   "cell_type": "code",
   "execution_count": 1,
   "id": "eac1f5b9",
   "metadata": {},
   "outputs": [
    {
     "name": "stdout",
     "output_type": "stream",
     "text": [
      "1-D array a\n",
      "[ 0  1  2  3  4  5  6  7  8  9 10 11 12 13 14 15 16 17 18 19 20 21 22 23\n",
      " 24 25 26]\n",
      "3-D array a\n",
      "[[[ 0  1  2]\n",
      "  [ 3  4  5]\n",
      "  [ 6  7  8]]\n",
      "\n",
      " [[ 9 10 11]\n",
      "  [12 13 14]\n",
      "  [15 16 17]]\n",
      "\n",
      " [[18 19 20]\n",
      "  [21 22 23]\n",
      "  [24 25 26]]]\n"
     ]
    }
   ],
   "source": [
    "import numpy as np\n",
    "\n",
    "a = np.arange(27)\n",
    "\n",
    "print(\"1-D array a\")\n",
    "print(a)\n",
    "\n",
    "print(\"3-D array a\")\n",
    "print(a.reshape(3,3,3))"
   ]
  },
  {
   "cell_type": "code",
   "execution_count": 2,
   "id": "e2a270cc",
   "metadata": {},
   "outputs": [
    {
     "name": "stdout",
     "output_type": "stream",
     "text": [
      "1-D array b\n",
      "[ 0  1  2  3  4  5  6  7  8  9 10 11 12 13 14 15 16 17]\n",
      "3-D array b\n",
      "[[[ 0  1  2]\n",
      "  [ 3  4  5]]\n",
      "\n",
      " [[ 6  7  8]\n",
      "  [ 9 10 11]]\n",
      "\n",
      " [[12 13 14]\n",
      "  [15 16 17]]]\n"
     ]
    }
   ],
   "source": [
    "b = np.array([x for x in range(18)])\n",
    "\n",
    "print(\"1-D array b\")\n",
    "print(b)\n",
    "\n",
    "print(\"3-D array b\")\n",
    "print(b.reshape(3,2,3))"
   ]
  },
  {
   "cell_type": "code",
   "execution_count": null,
   "id": "d521e405",
   "metadata": {},
   "outputs": [],
   "source": []
  }
 ],
 "metadata": {
  "kernelspec": {
   "display_name": "Python 3 (ipykernel)",
   "language": "python",
   "name": "python3"
  },
  "language_info": {
   "codemirror_mode": {
    "name": "ipython",
    "version": 3
   },
   "file_extension": ".py",
   "mimetype": "text/x-python",
   "name": "python",
   "nbconvert_exporter": "python",
   "pygments_lexer": "ipython3",
   "version": "3.9.7"
  }
 },
 "nbformat": 4,
 "nbformat_minor": 5
}
