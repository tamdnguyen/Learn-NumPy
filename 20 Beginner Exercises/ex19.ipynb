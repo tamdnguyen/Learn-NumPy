{
 "cells": [
  {
   "cell_type": "markdown",
   "id": "91d2f485",
   "metadata": {},
   "source": [
    "### EXERCISE 19 - Cosine Similarity\n",
    "\n",
    "Calculate the cosine similarity of 2 vectors (as numpy arrays)"
   ]
  },
  {
   "cell_type": "code",
   "execution_count": 1,
   "id": "ddd3a992",
   "metadata": {},
   "outputs": [],
   "source": [
    "import numpy as np"
   ]
  },
  {
   "cell_type": "code",
   "execution_count": 2,
   "id": "1eb36af7",
   "metadata": {},
   "outputs": [],
   "source": [
    "a = np.array([1,1,0])\n",
    "b = np.array([0,1,1])"
   ]
  },
  {
   "cell_type": "code",
   "execution_count": 3,
   "id": "607afbec",
   "metadata": {},
   "outputs": [
    {
     "name": "stdout",
     "output_type": "stream",
     "text": [
      "Cosine similarity of 2 vectors is  0.4999999999999999\n"
     ]
    }
   ],
   "source": [
    "cos_similarity = np.dot(a,b)/(np.linalg.norm(a)*np.linalg.norm(b))\n",
    "print(\"Cosine similarity of 2 vectors is \", cos_similarity)"
   ]
  }
 ],
 "metadata": {
  "kernelspec": {
   "display_name": "Python 3 (ipykernel)",
   "language": "python",
   "name": "python3"
  },
  "language_info": {
   "codemirror_mode": {
    "name": "ipython",
    "version": 3
   },
   "file_extension": ".py",
   "mimetype": "text/x-python",
   "name": "python",
   "nbconvert_exporter": "python",
   "pygments_lexer": "ipython3",
   "version": "3.9.7"
  }
 },
 "nbformat": 4,
 "nbformat_minor": 5
}
