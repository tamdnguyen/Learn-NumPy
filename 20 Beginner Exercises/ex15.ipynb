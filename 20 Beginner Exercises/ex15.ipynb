{
 "cells": [
  {
   "cell_type": "markdown",
   "id": "adb075c9",
   "metadata": {},
   "source": [
    "### EXERCISE 15 - Array Generation of random numbers following normal distribution\n",
    "\n",
    "Output a 3-by-3 array of random numbers following normal distribution"
   ]
  },
  {
   "cell_type": "code",
   "execution_count": 1,
   "id": "3699cdf7",
   "metadata": {},
   "outputs": [],
   "source": [
    "import numpy as np"
   ]
  },
  {
   "cell_type": "code",
   "execution_count": 2,
   "id": "cb949e18",
   "metadata": {},
   "outputs": [],
   "source": [
    "s = np.random.normal(0,1,(3,3))"
   ]
  },
  {
   "cell_type": "code",
   "execution_count": 3,
   "id": "a6a975f0",
   "metadata": {},
   "outputs": [
    {
     "name": "stdout",
     "output_type": "stream",
     "text": [
      "[[ 0.5187209   0.76871921  0.58526744]\n",
      " [ 0.00794951  1.14490539 -0.34507392]\n",
      " [ 1.88323254  0.55917324  2.3285117 ]]\n"
     ]
    }
   ],
   "source": [
    "print(s)"
   ]
  }
 ],
 "metadata": {
  "kernelspec": {
   "display_name": "Python 3 (ipykernel)",
   "language": "python",
   "name": "python3"
  },
  "language_info": {
   "codemirror_mode": {
    "name": "ipython",
    "version": 3
   },
   "file_extension": ".py",
   "mimetype": "text/x-python",
   "name": "python",
   "nbconvert_exporter": "python",
   "pygments_lexer": "ipython3",
   "version": "3.9.7"
  }
 },
 "nbformat": 4,
 "nbformat_minor": 5
}
